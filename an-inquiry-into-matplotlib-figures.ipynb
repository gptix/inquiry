{
 "cells": [
  {
   "cell_type": "code",
   "execution_count": 274,
   "metadata": {},
   "outputs": [],
   "source": [
    "%config Completer.use_jedi = False\n",
    "# Speed up tab autocompletion"
   ]
  },
  {
   "cell_type": "code",
   "execution_count": 1,
   "metadata": {},
   "outputs": [],
   "source": [
    "%reload_ext autoreload\n",
    "%autoreload 2\n",
    "%matplotlib inline"
   ]
  },
  {
   "cell_type": "code",
   "execution_count": 40,
   "metadata": {},
   "outputs": [],
   "source": [
    "import numpy as np\n",
    "import matplotlib.pyplot as plt\n",
    "import matplotlib as mpl"
   ]
  },
  {
   "cell_type": "markdown",
   "metadata": {},
   "source": [
    "# Setting up"
   ]
  },
  {
   "cell_type": "markdown",
   "metadata": {},
   "source": [
    "Matplotlib has many styles available, we can see the available options using:"
   ]
  },
  {
   "cell_type": "code",
   "execution_count": 12,
   "metadata": {},
   "outputs": [
    {
     "data": {
      "text/plain": [
       "['seaborn-dark',\n",
       " 'seaborn-darkgrid',\n",
       " 'seaborn-ticks',\n",
       " 'fivethirtyeight',\n",
       " 'seaborn-whitegrid',\n",
       " 'classic',\n",
       " '_classic_test',\n",
       " 'fast',\n",
       " 'seaborn-talk',\n",
       " 'seaborn-dark-palette',\n",
       " 'seaborn-bright',\n",
       " 'seaborn-pastel',\n",
       " 'grayscale',\n",
       " 'seaborn-notebook',\n",
       " 'ggplot',\n",
       " 'seaborn-colorblind',\n",
       " 'seaborn-muted',\n",
       " 'seaborn',\n",
       " 'Solarize_Light2',\n",
       " 'seaborn-paper',\n",
       " 'bmh',\n",
       " 'tableau-colorblind10',\n",
       " 'seaborn-white',\n",
       " 'dark_background',\n",
       " 'seaborn-poster',\n",
       " 'seaborn-deep']"
      ]
     },
     "execution_count": 12,
     "metadata": {},
     "output_type": "execute_result"
    }
   ],
   "source": [
    "plt.style.available"
   ]
  },
  {
   "cell_type": "markdown",
   "metadata": {},
   "source": [
    "We shall use `seaborn`"
   ]
  },
  {
   "cell_type": "code",
   "execution_count": 32,
   "metadata": {},
   "outputs": [],
   "source": [
    "plt.style.use('seaborn')"
   ]
  },
  {
   "cell_type": "markdown",
   "metadata": {},
   "source": [
    "# Exploration\n",
    "Going into `plt.subplots` documentation (hit `Shift+Tab+Tab`) reveals some of the other matplotlib internals that it uses in order to give us what we asked for. \n",
    "\n",
    "These include :<br>\n",
    "1. `plt.subplot`\n",
    "3. `plt.figure`\n",
    "3. `mpl.figure.Figure`\n",
    "4. `mpl.figure.Figure.add_subplot`\n",
    "5. `mpl.gridspec.GridSpec`\n",
    "6. `mpl.axes.Axes`\n",
    "\n",
    "Let's try and figure out what these functions / classes do."
   ]
  },
  {
   "cell_type": "markdown",
   "metadata": {},
   "source": [
    "## Recreating `plt.subplots` with basic matplotlib functionality"
   ]
  },
  {
   "cell_type": "code",
   "execution_count": 276,
   "metadata": {},
   "outputs": [
    {
     "data": {
      "text/plain": [
       "Text(0.5, 0.98, '2x2 Grid')"
      ]
     },
     "execution_count": 276,
     "metadata": {},
     "output_type": "execute_result"
    },
    {
     "data": {
      "image/png": "[encoded data removed]",
      "text/plain": [
       "<Figure size 576x396 with 4 Axes>"
      ]
     },
     "metadata": {},
     "output_type": "display_data"
    }
   ],
   "source": [
    "# This is what we need to recreate. We'll try and get a bit more creative though\n",
    "fig, ax = plt.subplots(2,2)\n",
    "fig.suptitle(\"2x2 Grid\")"
   ]
  },
  {
   "cell_type": "markdown",
   "metadata": {},
   "source": [
    "### Deviating..."
   ]
  },
  {
   "cell_type": "markdown",
   "metadata": {},
   "source": [
    "I didn't know this was possible:"
   ]
  },
  {
   "cell_type": "code",
   "execution_count": 277,
   "metadata": {},
   "outputs": [
    {
     "data": {
      "image/png": "[encoded data removed]",
      "text/plain": [
       "<Figure size 576x396 with 2 Axes>"
      ]
     },
     "execution_count": 277,
     "metadata": {},
     "output_type": "execute_result"
    }
   ],
   "source": [
    "fig = mpl.figure.Figure();\n",
    "\n",
    "fig.suptitle(\"Exploring a Figure\")\n",
    "\n",
    "ax1 = mpl.axes.Axes(fig=fig, rect=[0,0,0.8,0.8], fc='red')\n",
    "ax2 = mpl.axes.Axes(fig=fig, rect=[0.2, 0.2, 0.4, 0.4], fc='blue')\n",
    "# rect : [left, bottom, width, height] : specifies position and size of an Axes inside of a Figure\n",
    "\n",
    "fig.add_axes(ax1)\n",
    "fig.add_axes(ax2)\n",
    "\n",
    "fig"
   ]
  },
  {
   "cell_type": "markdown",
   "metadata": {},
   "source": [
    "*That means you can put random axes at random places inside of a Figure. Hmm. Interesting.*"
   ]
  },
  {
   "cell_type": "markdown",
   "metadata": {},
   "source": [
    "## Recreating our subplots literally from scratch"
   ]
  },
  {
   "cell_type": "markdown",
   "metadata": {},
   "source": [
    "An `Axes` in matplotlib is simply a place where you can draw plots. Think of it as a page in a notebook (where the figure is the notebook) except the fact that this page can be of various sizes and can be placed at various positions.\n",
    "\n",
    "A `Figure` simply holds a given number of axes at a time\n",
    "\n",
    "You can create a Figure (Notebook hard-cover) and Axes (pages) separately and then decide where to put each `Axes` in the `Figure`"
   ]
  },
  {
   "cell_type": "code",
   "execution_count": 278,
   "metadata": {},
   "outputs": [
    {
     "data": {
      "image/png": "[encoded data removed]",
      "text/plain": [
       "<Figure size 576x396 with 4 Axes>"
      ]
     },
     "execution_count": 278,
     "metadata": {},
     "output_type": "execute_result"
    }
   ],
   "source": [
    "fig = mpl.figure.Figure(); fig\n",
    "\n",
    "fig.suptitle(\"Recreating plt.subplots(2, 2)\")\n",
    "\n",
    "ax1 = mpl.axes.Axes(fig=fig, rect=[0,0,0.42,0.42])\n",
    "ax2 = mpl.axes.Axes(fig=fig, rect=[0, 0.5, 0.42, 0.42])\n",
    "ax3 = mpl.axes.Axes(fig=fig, rect=[0.5,0,0.42,0.42])\n",
    "ax4 = mpl.axes.Axes(fig=fig, rect=[0.5, 0.5, 0.42, 0.42])\n",
    "# rect : [left, bottom, width, height] : specifies position and size of an Axes inside of a Figure\n",
    "\n",
    "fig.add_axes(ax1)\n",
    "fig.add_axes(ax2)\n",
    "fig.add_axes(ax3)\n",
    "fig.add_axes(ax4)\n",
    "\n",
    "fig\n",
    "\n",
    "# That means you can put random axes at random places inside of a Figure. Hmm. Interesting."
   ]
  },
  {
   "cell_type": "markdown",
   "metadata": {},
   "source": [
    "## Using gridspec.GridSpec\n",
    "Docs : https://matplotlib.org/api/_as_gen/matplotlib.gridspec.GridSpec.html#matplotlib.gridspec.GridSpec\n",
    "\n",
    "GridSpec objects allow us fine-grained control over how our plot is exactly divided into subplots.<br>\n",
    "You can essentially decide how your plot will be divided into subplots and what their relative sizes will be using a GridSpec.\n",
    "\n",
    "Using our previous analogy, this helps us restrict (or pre-decide) where and how our pages will be fit inside of any notebook they go into. Or look at it another way, we can have each page say how it wants to be placed no matter what notebook you put them into by using `GridSpec`\n",
    "\n",
    "Lets see how you can use this"
   ]
  },
  {
   "cell_type": "code",
   "execution_count": 305,
   "metadata": {},
   "outputs": [
    {
     "name": "stdout",
     "output_type": "stream",
     "text": [
      "Figure(576x396)\n",
      "Figure(576x396)\n"
     ]
    },
    {
     "data": {
      "text/plain": [
       "<Figure size 576x396 with 0 Axes>"
      ]
     },
     "metadata": {},
     "output_type": "display_data"
    }
   ],
   "source": [
    "# But first, let's get this over with\n",
    "fig1 = plt.figure();\n",
    "fig2 = mpl.figure.Figure(); \n",
    "\n",
    "print(fig1)\n",
    "print(fig2)"
   ]
  },
  {
   "cell_type": "markdown",
   "metadata": {},
   "source": [
    "**It seems as if both fig1 and fig2 give back identical objects**\n",
    "\n",
    "So, we'll switch to using just `plt.figure()` instead of `mpl.figure.Figure()` to save keystrokes"
   ]
  },
  {
   "cell_type": "code",
   "execution_count": 280,
   "metadata": {},
   "outputs": [],
   "source": [
    "def annotate_axes(fig):\n",
    "    \"\"\"Taken from https://matplotlib.org/gallery/userdemo/demo_gridspec03.html#sphx-glr-gallery-userdemo-demo-gridspec03-py\n",
    "       takes a figure and puts an 'axN' label in the center of each Axes\n",
    "    \"\"\"\n",
    "    for i, ax in enumerate(fig.axes):\n",
    "        ax.text(0.5, 0.5, \"ax%d\" % (i+1), va=\"center\", ha=\"center\")\n",
    "        ax.tick_params(labelbottom=False, labelleft=False)"
   ]
  },
  {
   "cell_type": "code",
   "execution_count": 289,
   "metadata": {},
   "outputs": [
    {
     "data": {
      "text/plain": [
       "<Figure size 576x396 with 0 Axes>"
      ]
     },
     "metadata": {},
     "output_type": "display_data"
    }
   ],
   "source": [
    "fig = plt.figure()\n",
    "\n",
    "# We will try and vary axis sizes here just to see what happens\n",
    "# Look at the resulting figure and try and figure out what's going on with each parameter\n",
    "gs = mpl.gridspec.GridSpec(nrows=2, ncols=2, width_ratios=[1, 2], height_ratios=[4, 1])"
   ]
  },
  {
   "cell_type": "markdown",
   "metadata": {},
   "source": [
    "You can pass `GridSpec` objects to a `Figure` to create subplots in your desired sizes and proportions like so :"
   ]
  },
  {
   "cell_type": "code",
   "execution_count": 292,
   "metadata": {},
   "outputs": [
    {
     "data": {
      "image/png": "[encoded data removed]",
      "text/plain": [
       "<Figure size 576x396 with 4 Axes>"
      ]
     },
     "execution_count": 292,
     "metadata": {},
     "output_type": "execute_result"
    }
   ],
   "source": [
    "fig.clear()\n",
    "ax1, ax2, ax3, ax4 = [fig.add_subplot(gs[0]),\n",
    "                     fig.add_subplot(gs[1]),\n",
    "                     fig.add_subplot(gs[2]),\n",
    "                     fig.add_subplot(gs[3])]\n",
    "\n",
    "annotate_axes(fig)\n",
    "fig"
   ]
  },
  {
   "cell_type": "markdown",
   "metadata": {},
   "source": [
    "\n",
    "\n",
    "Doing the same thing in a simpler way\n",
    "\n"
   ]
  },
  {
   "cell_type": "code",
   "execution_count": 293,
   "metadata": {},
   "outputs": [],
   "source": [
    "def add_gs_to_fig(fig, gs): \n",
    "    for g in gs: fig.add_subplot(g)"
   ]
  },
  {
   "cell_type": "code",
   "execution_count": 294,
   "metadata": {},
   "outputs": [
    {
     "data": {
      "image/png": "[encoded data removed]",
      "text/plain": [
       "<Figure size 576x396 with 4 Axes>"
      ]
     },
     "execution_count": 294,
     "metadata": {},
     "output_type": "execute_result"
    }
   ],
   "source": [
    "fig.clear()\n",
    "add_gs_to_fig(fig, gs)\n",
    "annotate_axes(fig)\n",
    "fig"
   ]
  },
  {
   "cell_type": "markdown",
   "metadata": {},
   "source": [
    "## A very weird observation: (which gives us yet more clarity)\n",
    "Notice how after each print operation, different addresses get printed for each `gs` object."
   ]
  },
  {
   "cell_type": "code",
   "execution_count": 295,
   "metadata": {},
   "outputs": [
    {
     "data": {
      "text/plain": [
       "(<matplotlib.gridspec.SubplotSpec at 0x1a2d3fd750>,\n",
       " <matplotlib.gridspec.SubplotSpec at 0x1a2d3fde90>,\n",
       " <matplotlib.gridspec.SubplotSpec at 0x1a2c056450>,\n",
       " <matplotlib.gridspec.SubplotSpec at 0x1a2c056750>)"
      ]
     },
     "execution_count": 295,
     "metadata": {},
     "output_type": "execute_result"
    }
   ],
   "source": [
    "gs[0], gs[1], gs[2], gs[3]"
   ]
  },
  {
   "cell_type": "code",
   "execution_count": 296,
   "metadata": {},
   "outputs": [
    {
     "data": {
      "text/plain": [
       "(<matplotlib.gridspec.SubplotSpec at 0x1a2d3e7550>,\n",
       " <matplotlib.gridspec.SubplotSpec at 0x1a2d3e7750>,\n",
       " <matplotlib.gridspec.SubplotSpec at 0x1a2d3e7dd0>,\n",
       " <matplotlib.gridspec.SubplotSpec at 0x1a2d3e7310>)"
      ]
     },
     "execution_count": 296,
     "metadata": {},
     "output_type": "execute_result"
    }
   ],
   "source": [
    "gs[0], gs[1], gs[2], gs[3]"
   ]
  },
  {
   "cell_type": "code",
   "execution_count": 297,
   "metadata": {},
   "outputs": [
    {
     "name": "stdout",
     "output_type": "stream",
     "text": [
      "<matplotlib.gridspec.SubplotSpec object at 0x1a2d3ded10> <matplotlib.gridspec.SubplotSpec object at 0x1a2c063650> <matplotlib.gridspec.SubplotSpec object at 0x1a2c0632d0> <matplotlib.gridspec.SubplotSpec object at 0x1a2c063f90>\n"
     ]
    }
   ],
   "source": [
    "print(gs[0,0], gs[0,1], gs[1, 0], gs[1, 1])"
   ]
  },
  {
   "cell_type": "code",
   "execution_count": 298,
   "metadata": {},
   "outputs": [
    {
     "name": "stdout",
     "output_type": "stream",
     "text": [
      "<matplotlib.gridspec.SubplotSpec object at 0x1a2d3b94d0> <matplotlib.gridspec.SubplotSpec object at 0x1a2d3b9c10> <matplotlib.gridspec.SubplotSpec object at 0x1a2d3b9fd0> <matplotlib.gridspec.SubplotSpec object at 0x1a2d3b9d90>\n"
     ]
    }
   ],
   "source": [
    "print(gs[0,0], gs[0,1], gs[1, 0], gs[1, 1])"
   ]
  },
  {
   "cell_type": "markdown",
   "metadata": {},
   "source": [
    "**Lets understand why this happens:**"
   ]
  },
  {
   "cell_type": "markdown",
   "metadata": {},
   "source": [
    "*Notice how a group of `gs` objects indexed into at the same time also produces just one object instead of multiple objects*"
   ]
  },
  {
   "cell_type": "code",
   "execution_count": 299,
   "metadata": {},
   "outputs": [
    {
     "data": {
      "text/plain": [
       "(<matplotlib.gridspec.SubplotSpec at 0x1a2d707210>,\n",
       " <matplotlib.gridspec.SubplotSpec at 0x1a2c063c10>)"
      ]
     },
     "execution_count": 299,
     "metadata": {},
     "output_type": "execute_result"
    }
   ],
   "source": [
    "gs[:,:], gs[:, 0]\n",
    "# both output just one object each"
   ]
  },
  {
   "cell_type": "code",
   "execution_count": 300,
   "metadata": {},
   "outputs": [],
   "source": [
    "# Lets try another `gs` object, this time a little more crowded\n",
    "# I chose the ratios randomly\n",
    "gs = mpl.gridspec.GridSpec(nrows=3, ncols=3, width_ratios=[1, 2, 1], height_ratios=[4, 1, 3])"
   ]
  },
  {
   "cell_type": "markdown",
   "metadata": {},
   "source": [
    "Now notice how we can create different kinds of plots **while using the same `GridSpec` object** using this knowledge:"
   ]
  },
  {
   "cell_type": "code",
   "execution_count": 302,
   "metadata": {},
   "outputs": [
    {
     "data": {
      "image/png": "[encoded data removed]",
      "text/plain": [
       "<Figure size 576x396 with 3 Axes>"
      ]
     },
     "metadata": {},
     "output_type": "display_data"
    }
   ],
   "source": [
    "fig = plt.figure()\n",
    "ax1 = fig.add_subplot(gs[:2, 0])\n",
    "ax2 = fig.add_subplot(gs[2, 0])\n",
    "ax3 = fig.add_subplot(gs[:, 1:])\n",
    "annotate_axes(fig)"
   ]
  },
  {
   "cell_type": "code",
   "execution_count": 303,
   "metadata": {},
   "outputs": [
    {
     "data": {
      "image/png": "[encoded data removed]",
      "text/plain": [
       "<Figure size 576x396 with 9 Axes>"
      ]
     },
     "execution_count": 303,
     "metadata": {},
     "output_type": "execute_result"
    }
   ],
   "source": [
    "fig.clear()\n",
    "add_gs_to_fig(fig, gs)\n",
    "annotate_axes(fig)\n",
    "fig"
   ]
  },
  {
   "cell_type": "markdown",
   "metadata": {},
   "source": [
    "This ability to create different grid variations that `GridSpec` provides is probably the reason for that anomaly we just saw.\n",
    "\n",
    "It creates new objects everytime you index into it because it will be very troublesome to store all permutations of grid-spec objects into one group in memory (try and count permutations for a `GridSpec` of 10x10 and you'll know why)\n",
    "\n",
    "---\n",
    "## Now let's finally create `plt.subplots(2,2)` once again using GridSpec"
   ]
  },
  {
   "cell_type": "code",
   "execution_count": 273,
   "metadata": {},
   "outputs": [
    {
     "name": "stdout",
     "output_type": "stream",
     "text": [
      "yayy\n"
     ]
    },
    {
     "data": {
      "image/png": "[encoded data removed]",
      "text/plain": [
       "<Figure size 576x396 with 4 Axes>"
      ]
     },
     "metadata": {},
     "output_type": "display_data"
    }
   ],
   "source": [
    "fig = plt.figure()\n",
    "gs = mpl.gridspec.GridSpec(nrows=2, ncols=2)\n",
    "add_gs_to_fig(fig, gs)\n",
    "annotate_axes(fig)\n",
    "fig.suptitle(\"We're done!\")\n",
    "print(\"yayy\")"
   ]
  },
  {
   "cell_type": "markdown",
   "metadata": {},
   "source": [
    "# A few unrelated (maybe) words ..."
   ]
  },
  {
   "cell_type": "markdown",
   "metadata": {},
   "source": [
    "I read a tweet by someone cursing matplotlib (for its API) a while ago and decided to finally understand what the hell is going on with these figures and axes and subplots and what not inside of this library. So I sat by myself and wrote the only thing I ever write when using matplotlib : `fig, ax = plt.subplots(a, b)` and made a commitment to get to the depth of what's going on under the hood here.\n",
    "So I opened up the documentation for this function, made a list of all the other important seeming parts of the library that were mentioned here and went into the official docs for each, while also still tinkering with some other parts and functionalities that were not explicitly mentioned in the official docs.\n",
    "The result of this exercise is: \n",
    "1. This notebook\n",
    "2. Me (and hopefully, anyone reading this) having a much more fundamental understanding of the most important components of a very important python visualization library\n",
    "\n",
    "This makes me reflect on how sometimes it is very important to take a few hours off from your day and just dive deeply into something with an intention to completely take apart as many layers and abstractions as you can. In the end you come out feeling much more powerful and capable than what you were when you decided to dive deep.\n",
    "\n",
    "Anyways, I hope you learned something from this notebook.\n",
    "\n",
    "To best absorb the contents of this notebook, I would recommend that you try and replicate each part of the notebook without looking at it again (barring a few sneak-peeks maybe)"
   ]
  },
  {
   "cell_type": "code",
   "execution_count": null,
   "metadata": {},
   "outputs": [],
   "source": []
  }
 ],
 "metadata": {
  "kernelspec": {
   "display_name": "Python 3",
   "language": "python",
   "name": "python3"
  },
  "language_info": {
   "codemirror_mode": {
    "name": "ipython",
    "version": 3
   },
   "file_extension": ".py",
   "mimetype": "text/x-python",
   "name": "python",
   "nbconvert_exporter": "python",
   "pygments_lexer": "ipython3",
   "version": "3.7.4"
  },
  "toc": {
   "base_numbering": 1,
   "nav_menu": {},
   "number_sections": true,
   "sideBar": true,
   "skip_h1_title": false,
   "title_cell": "Table of Contents",
   "title_sidebar": "Contents",
   "toc_cell": false,
   "toc_position": {},
   "toc_section_display": true,
   "toc_window_display": false
  },
  "varInspector": {
   "cols": {
    "lenName": 16,
    "lenType": 16,
    "lenVar": 40
   },
   "kernels_config": {
    "python": {
     "delete_cmd_postfix": "",
     "delete_cmd_prefix": "del ",
     "library": "var_list.py",
     "varRefreshCmd": "print(var_dic_list())"
    },
    "r": {
     "delete_cmd_postfix": ") ",
     "delete_cmd_prefix": "rm(",
     "library": "var_list.r",
     "varRefreshCmd": "cat(var_dic_list()) "
    }
   },
   "types_to_exclude": [
    "module",
    "function",
    "builtin_function_or_method",
    "instance",
    "_Feature"
   ],
   "window_display": false
  }
 },
 "nbformat": 4,
 "nbformat_minor": 2
}
